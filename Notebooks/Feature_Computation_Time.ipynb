{
 "cells": [
  {
   "cell_type": "markdown",
   "id": "148a585b",
   "metadata": {},
   "source": [
    "## In this notebook we are going to see how much time it takes to compute all the features for a single waveform of one minute in the duration"
   ]
  },
  {
   "cell_type": "code",
   "execution_count": 1,
   "id": "8a689919",
   "metadata": {},
   "outputs": [],
   "source": [
    "import obspy \n",
    "import matplotlib.pyplot as plt\n",
    "import numpy as np\n",
    "from glob import glob\n",
    "from tqdm import tqdm\n",
    "import os\n",
    "import time\n",
    "import numpy as np \n",
    "import pandas as pd \n",
    "import matplotlib.pyplot as plt\n",
    "from matplotlib.pyplot import figure\n",
    "import seaborn as sns\n",
    "from sklearn import preprocessing\n",
    "from sklearn.preprocessing import LabelEncoder\n",
    "from sklearn.preprocessing import StandardScaler\n",
    "from sklearn.model_selection import train_test_split\n",
    "from sklearn.metrics import classification_report,confusion_matrix\n",
    "from sklearn.ensemble import RandomForestClassifier\n",
    "from sklearn.decomposition import PCA\n",
    "from sklearn.manifold import TSNE\n",
    "\n",
    "from sklearn.model_selection import train_test_split\n",
    "from sklearn.feature_selection import SelectKBest\n",
    "from sklearn.feature_selection import f_classif\n",
    "\n",
    "from sklearn.model_selection import cross_val_score\n",
    "from sklearn.model_selection import RepeatedStratifiedKFold\n",
    "from sklearn.feature_selection import SelectKBest\n",
    "from sklearn.feature_selection import f_classif\n",
    "from sklearn.linear_model import LogisticRegression\n",
    "from sklearn.pipeline import Pipeline\n",
    "\n",
    "from sklearn.metrics import accuracy_score\n",
    "#from tsfresh import extract_features\n",
    "#from tsfresh.feature_extraction import EfficientFCParameters, MinimalFCParameters\n",
    "import time\n",
    "import tsfel\n",
    "import warnings\n",
    "warnings.filterwarnings(\"ignore\")\n",
    "\n",
    "\n",
    "from obspy.clients.fdsn import Client\n",
    "client = Client('IRIS')\n",
    "from obspy.geodetics.base import gps2dist_azimuth\n",
    "from obspy.taup import TauPyModel\n",
    "model = TauPyModel(model=\"iasp91\")\n",
    "\n",
    "import sys\n",
    "sys.path.append('/home/ak287/PNW_ML_Classification/notebooks/')\n",
    "\n",
    "import seis_feature"
   ]
  },
  {
   "cell_type": "code",
   "execution_count": 2,
   "id": "47197237",
   "metadata": {},
   "outputs": [
    {
     "data": {
      "text/plain": [
       "1 Trace(s) in Stream:\n",
       "AK.SCM..BHZ | 2022-03-11T21:58:52.008400Z - 2022-03-11T22:03:51.988400Z | 50.0 Hz, 15000 samples"
      ]
     },
     "execution_count": 2,
     "metadata": {},
     "output_type": "execute_result"
    }
   ],
   "source": [
    "station = 'SCM'\n",
    "st = obspy.read(glob('../Data/icequake_waveforms/*'+station+'*')[0]).select(channel = '*HZ')\n",
    "st.detrend()"
   ]
  },
  {
   "cell_type": "code",
   "execution_count": 3,
   "id": "03ad2754",
   "metadata": {},
   "outputs": [
    {
     "data": {
      "text/plain": [
       "AK.SCM..BHZ | 2022-03-11T21:58:52.008400Z - 2022-03-11T21:59:52.008400Z | 50.0 Hz, 3001 samples"
      ]
     },
     "execution_count": 3,
     "metadata": {},
     "output_type": "execute_result"
    }
   ],
   "source": [
    "x = 1\n",
    "starttime = st[0].stats.starttime\n",
    "endtime  = starttime + x*60\n",
    "d = st[0].trim(starttime, endtime)\n",
    "\n",
    "\n",
    "network = d.stats.network\n",
    "station = d.stats.station\n",
    "location = d.stats.location\n",
    "channel = d.stats.channel\n",
    "starttime = d.stats.starttime\n",
    "endtime = d.stats.endtime\n",
    "inv = client.get_stations(network = network, station= station, location= location, channel=channel,\n",
    "         starttime=starttime, endtime=endtime, level=\"response\")\n",
    "\n",
    "d.remove_response(inventory= inv, output = \"VEL\")\n",
    "d.filter(type='bandpass', freqmin= 0.5, freqmax= 25)"
   ]
  },
  {
   "cell_type": "code",
   "execution_count": 4,
   "id": "2f89dc90",
   "metadata": {},
   "outputs": [
    {
     "name": "stdout",
     "output_type": "stream",
     "text": [
      "*** Feature extraction started ***\n",
      "16\n"
     ]
    },
    {
     "data": {
      "text/html": [
       "\n",
       "              <p>\n",
       "                  Progress: 100% Complete\n",
       "              <p/>            \n",
       "              <progress\n",
       "                  value='16'\n",
       "                  max='16',\n",
       "                  style='width: 25%',\n",
       "              >\n",
       "                  16\n",
       "              </progress>\n",
       "\n",
       "    "
      ],
      "text/plain": [
       "<IPython.core.display.HTML object>"
      ]
     },
     "metadata": {},
     "output_type": "display_data"
    },
    {
     "name": "stdout",
     "output_type": "stream",
     "text": [
      "*** Feature extraction started ***\n",
      "18\n"
     ]
    },
    {
     "data": {
      "text/html": [
       "\n",
       "              <p>\n",
       "                  Progress: 100% Complete\n",
       "              <p/>            \n",
       "              <progress\n",
       "                  value='18'\n",
       "                  max='18',\n",
       "                  style='width: 25%',\n",
       "              >\n",
       "                  18\n",
       "              </progress>\n",
       "\n",
       "    "
      ],
      "text/plain": [
       "<IPython.core.display.HTML object>"
      ]
     },
     "metadata": {},
     "output_type": "display_data"
    },
    {
     "name": "stdout",
     "output_type": "stream",
     "text": [
      "*** Feature extraction started ***\n",
      "26\n"
     ]
    },
    {
     "data": {
      "text/html": [
       "\n",
       "              <p>\n",
       "                  Progress: 100% Complete\n",
       "              <p/>            \n",
       "              <progress\n",
       "                  value='26'\n",
       "                  max='26',\n",
       "                  style='width: 25%',\n",
       "              >\n",
       "                  26\n",
       "              </progress>\n",
       "\n",
       "    "
      ],
      "text/plain": [
       "<IPython.core.display.HTML object>"
      ]
     },
     "metadata": {},
     "output_type": "display_data"
    },
    {
     "name": "stdout",
     "output_type": "stream",
     "text": [
      "*** Feature extraction started ***\n",
      "60\n"
     ]
    },
    {
     "data": {
      "text/html": [
       "\n",
       "              <p>\n",
       "                  Progress: 100% Complete\n",
       "              <p/>            \n",
       "              <progress\n",
       "                  value='60'\n",
       "                  max='60',\n",
       "                  style='width: 25%',\n",
       "              >\n",
       "                  60\n",
       "              </progress>\n",
       "\n",
       "    "
      ],
      "text/plain": [
       "<IPython.core.display.HTML object>"
      ]
     },
     "metadata": {},
     "output_type": "display_data"
    },
    {
     "name": "stdout",
     "output_type": "stream",
     "text": [
      "*** Feature extraction started ***\n",
      "16\n"
     ]
    },
    {
     "data": {
      "text/html": [
       "\n",
       "              <p>\n",
       "                  Progress: 100% Complete\n",
       "              <p/>            \n",
       "              <progress\n",
       "                  value='16'\n",
       "                  max='16',\n",
       "                  style='width: 25%',\n",
       "              >\n",
       "                  16\n",
       "              </progress>\n",
       "\n",
       "    "
      ],
      "text/plain": [
       "<IPython.core.display.HTML object>"
      ]
     },
     "metadata": {},
     "output_type": "display_data"
    },
    {
     "name": "stdout",
     "output_type": "stream",
     "text": [
      "*** Feature extraction started ***\n",
      "18\n"
     ]
    },
    {
     "data": {
      "text/html": [
       "\n",
       "              <p>\n",
       "                  Progress: 100% Complete\n",
       "              <p/>            \n",
       "              <progress\n",
       "                  value='18'\n",
       "                  max='18',\n",
       "                  style='width: 25%',\n",
       "              >\n",
       "                  18\n",
       "              </progress>\n",
       "\n",
       "    "
      ],
      "text/plain": [
       "<IPython.core.display.HTML object>"
      ]
     },
     "metadata": {},
     "output_type": "display_data"
    },
    {
     "name": "stdout",
     "output_type": "stream",
     "text": [
      "*** Feature extraction started ***\n",
      "26\n"
     ]
    },
    {
     "data": {
      "text/html": [
       "\n",
       "              <p>\n",
       "                  Progress: 100% Complete\n",
       "              <p/>            \n",
       "              <progress\n",
       "                  value='26'\n",
       "                  max='26',\n",
       "                  style='width: 25%',\n",
       "              >\n",
       "                  26\n",
       "              </progress>\n",
       "\n",
       "    "
      ],
      "text/plain": [
       "<IPython.core.display.HTML object>"
      ]
     },
     "metadata": {},
     "output_type": "display_data"
    },
    {
     "name": "stdout",
     "output_type": "stream",
     "text": [
      "*** Feature extraction started ***\n",
      "60\n"
     ]
    },
    {
     "data": {
      "text/html": [
       "\n",
       "              <p>\n",
       "                  Progress: 100% Complete\n",
       "              <p/>            \n",
       "              <progress\n",
       "                  value='60'\n",
       "                  max='60',\n",
       "                  style='width: 25%',\n",
       "              >\n",
       "                  60\n",
       "              </progress>\n",
       "\n",
       "    "
      ],
      "text/plain": [
       "<IPython.core.display.HTML object>"
      ]
     },
     "metadata": {},
     "output_type": "display_data"
    },
    {
     "name": "stdout",
     "output_type": "stream",
     "text": [
      "*** Feature extraction started ***\n",
      "16\n"
     ]
    },
    {
     "data": {
      "text/html": [
       "\n",
       "              <p>\n",
       "                  Progress: 100% Complete\n",
       "              <p/>            \n",
       "              <progress\n",
       "                  value='16'\n",
       "                  max='16',\n",
       "                  style='width: 25%',\n",
       "              >\n",
       "                  16\n",
       "              </progress>\n",
       "\n",
       "    "
      ],
      "text/plain": [
       "<IPython.core.display.HTML object>"
      ]
     },
     "metadata": {},
     "output_type": "display_data"
    },
    {
     "name": "stdout",
     "output_type": "stream",
     "text": [
      "*** Feature extraction started ***\n",
      "18\n"
     ]
    },
    {
     "data": {
      "text/html": [
       "\n",
       "              <p>\n",
       "                  Progress: 100% Complete\n",
       "              <p/>            \n",
       "              <progress\n",
       "                  value='18'\n",
       "                  max='18',\n",
       "                  style='width: 25%',\n",
       "              >\n",
       "                  18\n",
       "              </progress>\n",
       "\n",
       "    "
      ],
      "text/plain": [
       "<IPython.core.display.HTML object>"
      ]
     },
     "metadata": {},
     "output_type": "display_data"
    },
    {
     "name": "stdout",
     "output_type": "stream",
     "text": [
      "*** Feature extraction started ***\n",
      "26\n"
     ]
    },
    {
     "data": {
      "text/html": [
       "\n",
       "              <p>\n",
       "                  Progress: 100% Complete\n",
       "              <p/>            \n",
       "              <progress\n",
       "                  value='26'\n",
       "                  max='26',\n",
       "                  style='width: 25%',\n",
       "              >\n",
       "                  26\n",
       "              </progress>\n",
       "\n",
       "    "
      ],
      "text/plain": [
       "<IPython.core.display.HTML object>"
      ]
     },
     "metadata": {},
     "output_type": "display_data"
    },
    {
     "name": "stdout",
     "output_type": "stream",
     "text": [
      "*** Feature extraction started ***\n",
      "60\n"
     ]
    },
    {
     "data": {
      "text/html": [
       "\n",
       "              <p>\n",
       "                  Progress: 100% Complete\n",
       "              <p/>            \n",
       "              <progress\n",
       "                  value='60'\n",
       "                  max='60',\n",
       "                  style='width: 25%',\n",
       "              >\n",
       "                  60\n",
       "              </progress>\n",
       "\n",
       "    "
      ],
      "text/plain": [
       "<IPython.core.display.HTML object>"
      ]
     },
     "metadata": {},
     "output_type": "display_data"
    },
    {
     "name": "stdout",
     "output_type": "stream",
     "text": [
      "*** Feature extraction started ***\n",
      "16\n"
     ]
    },
    {
     "data": {
      "text/html": [
       "\n",
       "              <p>\n",
       "                  Progress: 100% Complete\n",
       "              <p/>            \n",
       "              <progress\n",
       "                  value='16'\n",
       "                  max='16',\n",
       "                  style='width: 25%',\n",
       "              >\n",
       "                  16\n",
       "              </progress>\n",
       "\n",
       "    "
      ],
      "text/plain": [
       "<IPython.core.display.HTML object>"
      ]
     },
     "metadata": {},
     "output_type": "display_data"
    },
    {
     "name": "stdout",
     "output_type": "stream",
     "text": [
      "*** Feature extraction started ***\n",
      "18\n"
     ]
    },
    {
     "data": {
      "text/html": [
       "\n",
       "              <p>\n",
       "                  Progress: 100% Complete\n",
       "              <p/>            \n",
       "              <progress\n",
       "                  value='18'\n",
       "                  max='18',\n",
       "                  style='width: 25%',\n",
       "              >\n",
       "                  18\n",
       "              </progress>\n",
       "\n",
       "    "
      ],
      "text/plain": [
       "<IPython.core.display.HTML object>"
      ]
     },
     "metadata": {},
     "output_type": "display_data"
    },
    {
     "name": "stdout",
     "output_type": "stream",
     "text": [
      "*** Feature extraction started ***\n",
      "26\n"
     ]
    },
    {
     "data": {
      "text/html": [
       "\n",
       "              <p>\n",
       "                  Progress: 100% Complete\n",
       "              <p/>            \n",
       "              <progress\n",
       "                  value='26'\n",
       "                  max='26',\n",
       "                  style='width: 25%',\n",
       "              >\n",
       "                  26\n",
       "              </progress>\n",
       "\n",
       "    "
      ],
      "text/plain": [
       "<IPython.core.display.HTML object>"
      ]
     },
     "metadata": {},
     "output_type": "display_data"
    },
    {
     "name": "stdout",
     "output_type": "stream",
     "text": [
      "*** Feature extraction started ***\n",
      "60\n"
     ]
    },
    {
     "data": {
      "text/html": [
       "\n",
       "              <p>\n",
       "                  Progress: 100% Complete\n",
       "              <p/>            \n",
       "              <progress\n",
       "                  value='60'\n",
       "                  max='60',\n",
       "                  style='width: 25%',\n",
       "              >\n",
       "                  60\n",
       "              </progress>\n",
       "\n",
       "    "
      ],
      "text/plain": [
       "<IPython.core.display.HTML object>"
      ]
     },
     "metadata": {},
     "output_type": "display_data"
    },
    {
     "name": "stdout",
     "output_type": "stream",
     "text": [
      "*** Feature extraction started ***\n",
      "16\n"
     ]
    },
    {
     "data": {
      "text/html": [
       "\n",
       "              <p>\n",
       "                  Progress: 100% Complete\n",
       "              <p/>            \n",
       "              <progress\n",
       "                  value='16'\n",
       "                  max='16',\n",
       "                  style='width: 25%',\n",
       "              >\n",
       "                  16\n",
       "              </progress>\n",
       "\n",
       "    "
      ],
      "text/plain": [
       "<IPython.core.display.HTML object>"
      ]
     },
     "metadata": {},
     "output_type": "display_data"
    },
    {
     "name": "stdout",
     "output_type": "stream",
     "text": [
      "*** Feature extraction started ***\n",
      "18\n"
     ]
    },
    {
     "data": {
      "text/html": [
       "\n",
       "              <p>\n",
       "                  Progress: 100% Complete\n",
       "              <p/>            \n",
       "              <progress\n",
       "                  value='18'\n",
       "                  max='18',\n",
       "                  style='width: 25%',\n",
       "              >\n",
       "                  18\n",
       "              </progress>\n",
       "\n",
       "    "
      ],
      "text/plain": [
       "<IPython.core.display.HTML object>"
      ]
     },
     "metadata": {},
     "output_type": "display_data"
    },
    {
     "name": "stdout",
     "output_type": "stream",
     "text": [
      "*** Feature extraction started ***\n",
      "26\n"
     ]
    },
    {
     "data": {
      "text/html": [
       "\n",
       "              <p>\n",
       "                  Progress: 100% Complete\n",
       "              <p/>            \n",
       "              <progress\n",
       "                  value='26'\n",
       "                  max='26',\n",
       "                  style='width: 25%',\n",
       "              >\n",
       "                  26\n",
       "              </progress>\n",
       "\n",
       "    "
      ],
      "text/plain": [
       "<IPython.core.display.HTML object>"
      ]
     },
     "metadata": {},
     "output_type": "display_data"
    },
    {
     "name": "stdout",
     "output_type": "stream",
     "text": [
      "*** Feature extraction started ***\n",
      "60\n"
     ]
    },
    {
     "data": {
      "text/html": [
       "\n",
       "              <p>\n",
       "                  Progress: 100% Complete\n",
       "              <p/>            \n",
       "              <progress\n",
       "                  value='60'\n",
       "                  max='60',\n",
       "                  style='width: 25%',\n",
       "              >\n",
       "                  60\n",
       "              </progress>\n",
       "\n",
       "    "
      ],
      "text/plain": [
       "<IPython.core.display.HTML object>"
      ]
     },
     "metadata": {},
     "output_type": "display_data"
    }
   ],
   "source": [
    "t = [0.5, 1, 2, 3, 4]\n",
    "\n",
    "dur_time = []\n",
    "for x in t:\n",
    "        station = 'SCM'\n",
    "        st = obspy.read(glob('../Data/icequake_waveforms/*'+station+'*')[0]).select(channel = '*HZ')\n",
    "        st.detrend()\n",
    "\n",
    "\n",
    "\n",
    "        starttime = st[0].stats.starttime\n",
    "        endtime  = starttime + x*60\n",
    "        d = st[0].trim(starttime, endtime)\n",
    "\n",
    "\n",
    "        network = d.stats.network\n",
    "        station = d.stats.station\n",
    "        location = d.stats.location\n",
    "        channel = d.stats.channel\n",
    "        starttime = d.stats.starttime\n",
    "        endtime = d.stats.endtime\n",
    "        inv = client.get_stations(network = network, station= station, location= location, channel=channel,\n",
    "                 starttime=starttime, endtime=endtime, level=\"response\")\n",
    "\n",
    "        d.remove_response(inventory= inv, output = \"VEL\")\n",
    "        d.filter(type='bandpass', freqmin= 0.5, freqmax= 25)\n",
    "\n",
    "\n",
    "\n",
    "\n",
    "        domains = ['statistical', 'temporal', 'spectral',None]\n",
    "\n",
    "        dur = []\n",
    "        for domain in domains:\n",
    "            cfg_file = tsfel.get_features_by_domain(domain)\n",
    "            start = time.time()\n",
    "            tsfel.time_series_features_extractor(cfg_file, d.data, fs=50, \n",
    "                                                                            n_jobs = -1, verbose = 1)\n",
    "            end = time.time()\n",
    "            dur.append(end - start)\n",
    "\n",
    "        \n",
    "        start = time.time()\n",
    "        abs(np.fft.fft(d.data))\n",
    "        end = time.time()\n",
    "        dur.append(end - start)\n",
    "        \n",
    "        \n",
    "\n",
    "        tr = obspy.Trace(d.data)\n",
    "        tr.stats.sampling_rate = 50\n",
    "        start = time.time()\n",
    "        df = seis_feature.compute_physical_features(tr = tr, envfilter = False)\n",
    "        end = time.time()\n",
    "        dur.append(end-start)\n",
    "        \n",
    "        \n",
    "        dur_time.append(dur)"
   ]
  },
  {
   "cell_type": "code",
   "execution_count": 5,
   "id": "3ac3cac0",
   "metadata": {},
   "outputs": [
    {
     "data": {
      "text/html": [
       "<div>\n",
       "<style scoped>\n",
       "    .dataframe tbody tr th:only-of-type {\n",
       "        vertical-align: middle;\n",
       "    }\n",
       "\n",
       "    .dataframe tbody tr th {\n",
       "        vertical-align: top;\n",
       "    }\n",
       "\n",
       "    .dataframe thead th {\n",
       "        text-align: right;\n",
       "    }\n",
       "</style>\n",
       "<table border=\"1\" class=\"dataframe\">\n",
       "  <thead>\n",
       "    <tr style=\"text-align: right;\">\n",
       "      <th></th>\n",
       "      <th>Window_Length</th>\n",
       "      <th>RappMaxMean</th>\n",
       "      <th>RappMaxMedian</th>\n",
       "      <th>AsDec</th>\n",
       "      <th>KurtoSig</th>\n",
       "      <th>KurtoEnv</th>\n",
       "      <th>SkewSig</th>\n",
       "      <th>SkewEnv</th>\n",
       "      <th>CorPeakNumber</th>\n",
       "      <th>Energy1/3Cor</th>\n",
       "      <th>...</th>\n",
       "      <th>DistMaxMeanFreqDTF</th>\n",
       "      <th>DistMaxMedianFreqDTF</th>\n",
       "      <th>DistQ2Q1DFT</th>\n",
       "      <th>DistQ3Q2DFT</th>\n",
       "      <th>DistQ3Q1DFT</th>\n",
       "      <th>Peak_Envelope_Amplitude</th>\n",
       "      <th>Average_Envelope_Amplitude</th>\n",
       "      <th>Envelope_Area</th>\n",
       "      <th>Envelope_Velocity</th>\n",
       "      <th>Envelope_Rise_Time</th>\n",
       "    </tr>\n",
       "  </thead>\n",
       "  <tbody>\n",
       "    <tr>\n",
       "      <th>0</th>\n",
       "      <td>240.0</td>\n",
       "      <td>8.765188</td>\n",
       "      <td>10.223638</td>\n",
       "      <td>0.132717</td>\n",
       "      <td>11.441693</td>\n",
       "      <td>30.39589</td>\n",
       "      <td>-0.038866</td>\n",
       "      <td>4.157156</td>\n",
       "      <td>5709.0</td>\n",
       "      <td>-6.701667e-11</td>\n",
       "      <td>...</td>\n",
       "      <td>1.490448e-14</td>\n",
       "      <td>1.526911e-14</td>\n",
       "      <td>3.773425</td>\n",
       "      <td>-1.029662</td>\n",
       "      <td>2.743763</td>\n",
       "      <td>9.481315e-07</td>\n",
       "      <td>1.081701e-07</td>\n",
       "      <td>0.000026</td>\n",
       "      <td>1.081275e-07</td>\n",
       "      <td>28.12</td>\n",
       "    </tr>\n",
       "  </tbody>\n",
       "</table>\n",
       "<p>1 rows × 62 columns</p>\n",
       "</div>"
      ],
      "text/plain": [
       "   Window_Length  RappMaxMean  RappMaxMedian     AsDec   KurtoSig  KurtoEnv  \\\n",
       "0          240.0     8.765188      10.223638  0.132717  11.441693  30.39589   \n",
       "\n",
       "    SkewSig   SkewEnv  CorPeakNumber  Energy1/3Cor  ...  DistMaxMeanFreqDTF  \\\n",
       "0 -0.038866  4.157156         5709.0 -6.701667e-11  ...        1.490448e-14   \n",
       "\n",
       "   DistMaxMedianFreqDTF  DistQ2Q1DFT  DistQ3Q2DFT  DistQ3Q1DFT  \\\n",
       "0          1.526911e-14     3.773425    -1.029662     2.743763   \n",
       "\n",
       "   Peak_Envelope_Amplitude  Average_Envelope_Amplitude  Envelope_Area  \\\n",
       "0             9.481315e-07                1.081701e-07       0.000026   \n",
       "\n",
       "   Envelope_Velocity  Envelope_Rise_Time  \n",
       "0       1.081275e-07               28.12  \n",
       "\n",
       "[1 rows x 62 columns]"
      ]
     },
     "execution_count": 5,
     "metadata": {},
     "output_type": "execute_result"
    }
   ],
   "source": [
    "df"
   ]
  },
  {
   "cell_type": "code",
   "execution_count": null,
   "id": "26acdd26",
   "metadata": {},
   "outputs": [],
   "source": []
  },
  {
   "cell_type": "code",
   "execution_count": null,
   "id": "959edd01",
   "metadata": {},
   "outputs": [],
   "source": []
  },
  {
   "cell_type": "code",
   "execution_count": null,
   "id": "83fd965a",
   "metadata": {},
   "outputs": [],
   "source": []
  },
  {
   "cell_type": "code",
   "execution_count": 6,
   "id": "e70730d7",
   "metadata": {},
   "outputs": [
    {
     "data": {
      "text/plain": [
       "<matplotlib.legend.Legend at 0x7f3dc075f580>"
      ]
     },
     "execution_count": 6,
     "metadata": {},
     "output_type": "execute_result"
    },
    {
     "data": {
      "image/png": "[encoded data removed]",
      "text/plain": [
       "<Figure size 1500x600 with 1 Axes>"
      ]
     },
     "metadata": {},
     "output_type": "display_data"
    }
   ],
   "source": [
    "dur_time = np.array(dur_time)\n",
    "a1 = dur_time[:,0]\n",
    "a2 = dur_time[:,1]\n",
    "a3 = dur_time[:,2]\n",
    "a4 = dur_time[:,3]\n",
    "a5 = dur_time[:,4]\n",
    "a6 = dur_time[:,5]\n",
    "\n",
    "\n",
    "plt.style.use('default')\n",
    "plt.rcParams['axes.linewidth'] = 0.5\n",
    "import matplotlib\n",
    "cmap = matplotlib.cm.get_cmap('magma')\n",
    "\n",
    "c1 = cmap(0.1)\n",
    "c2 = cmap(0.3)\n",
    "c3 = cmap(0.5)\n",
    "c4 = cmap(0.7)\n",
    "c5 = cmap(0.9)\n",
    "c6 = cmap(1.0)\n",
    "\n",
    "\n",
    "\n",
    "# set width of bar\n",
    "barWidth = 0.2\n",
    "fig = plt.subplots(figsize =(15, 6), facecolor='white')\n",
    " \n",
    "\n",
    "\n",
    "\n",
    "# Set position of bar on X axis\n",
    "br1 = 1.5*np.arange(len(a1))\n",
    "br2 = [x + barWidth for x in br1]\n",
    "br3 = [x + barWidth for x in br2]\n",
    "br4 = [x + barWidth for x in br3]\n",
    "br5 = [x + barWidth for x in br4]\n",
    "br6 = [x + barWidth for x in br5]\n",
    "\n",
    "# Make the plot\n",
    "plt.bar(br1, a1, color =c1, width = barWidth,\n",
    "        label ='Statistical (36)',edgecolor='k')\n",
    "plt.bar(br2, a2, color =c2, width = barWidth,\n",
    "         label ='Temporal (18)',edgecolor='k')\n",
    "plt.bar(br3, a3, color =c3, width = barWidth,\n",
    "         label ='Spectral (336)',edgecolor='k')\n",
    "plt.bar(br4, a4, color =c4, width = barWidth,\n",
    "         label ='All (390)',edgecolor='k')\n",
    "plt.bar(br5, a5, color =c5, width = barWidth,\n",
    "         label ='AFS (1500)',edgecolor='k')\n",
    "plt.bar(br6, a6, color =c6, width = barWidth,\n",
    "         label ='Physical (62)',edgecolor='k')\n",
    "\n",
    "\n",
    "v = np.vstack((a1,a2))\n",
    "X = [br1, br2]\n",
    "c= [c2,c5]\n",
    "#for i in range(15):\n",
    "#    plt.scatter(X[int(np.argmax(v[:,i]))][i], max(v[:,i])+0.5, c=c[int(np.argmax(v[:,i]))])\n",
    "\n",
    "\n",
    "\n",
    "plt.plot(br1, a1, marker = 'o', color=c1, mec = 'k')\n",
    "plt.plot(br2, a2, marker = 'o',color=c2, mec = 'k') \n",
    "plt.plot(br3, a3, marker = 'o',color=c3, mec = 'k')\n",
    "plt.plot(br4, a4, marker = 'o', color=c4, mec = 'k')\n",
    "plt.plot(br5, a5, marker = 'o', color=c5, mec = 'k')\n",
    "plt.plot(br6, a6, marker = 'o', color=c6, mec = 'k')\n",
    "\n",
    "\n",
    "# Adding Xticks\n",
    "xlabels = ['30s', '1min', '2min','3min','4min']\n",
    "plt.xlabel('Duration of Input Waveform', fontweight ='bold', fontsize = 15)\n",
    "plt.ylabel('Computation Time (s)', fontweight ='bold', fontsize = 15)\n",
    "plt.yticks(np.arange(0,100,20), fontweight = 'bold', fontsize=12)\n",
    "plt.yscale('log')\n",
    "plt.xticks([1.5*r + barWidth for r in range(len(a1))], xlabels,  fontsize= 12, fontweight='bold')\n",
    "plt.ylim(0,300)\n",
    "#plt.xlim(-1,23)\n",
    "plt.legend(loc='upper right',ncol=3, facecolor='white', framealpha=1, edgecolor='black', fontsize=12, title ='Features', title_fontsize=12)\n",
    "#plt.show()\n",
    "\n",
    "#plt.savefig('Manuscript_Figures/Features_Performance_Comparison_averaged.eps')\n",
    "\n",
    "\n",
    "\n",
    "\n",
    "\n",
    "\n"
   ]
  },
  {
   "cell_type": "code",
   "execution_count": null,
   "id": "9de59ef2",
   "metadata": {},
   "outputs": [],
   "source": []
  },
  {
   "cell_type": "code",
   "execution_count": 7,
   "id": "c739689a",
   "metadata": {},
   "outputs": [
    {
     "data": {
      "text/plain": [
       "array([[  1.89290047e-02,   1.99711323e-02,   4.59327698e-02,\n",
       "          8.76126289e-02,   7.46250153e-05,   8.78095627e-03],\n",
       "       [  2.28667259e-02,   2.39295959e-02,   4.86545563e-02,\n",
       "          8.93247128e-02,   2.23636627e-04,   1.02074146e-02],\n",
       "       [  2.51030922e-02,   2.44083405e-02,   6.69620037e-02,\n",
       "          1.08852148e-01,   5.30481339e-04,   1.49092674e-02],\n",
       "       [  2.35309601e-02,   2.66506672e-02,   8.49015713e-02,\n",
       "          1.32471561e-01,   6.52551651e-04,   2.24256516e-02],\n",
       "       [  2.58743763e-02,   2.58545876e-02,   1.31876945e-01,\n",
       "          1.74554586e-01,   1.13439560e-03,   6.68067932e-02]])"
      ]
     },
     "execution_count": 7,
     "metadata": {},
     "output_type": "execute_result"
    }
   ],
   "source": [
    "dur_time[:,:7]"
   ]
  },
  {
   "cell_type": "code",
   "execution_count": 10,
   "id": "54da3072",
   "metadata": {},
   "outputs": [
    {
     "data": {
      "image/png": "[encoded data removed]",
      "text/plain": [
       "<Figure size 1500x600 with 1 Axes>"
      ]
     },
     "metadata": {},
     "output_type": "display_data"
    }
   ],
   "source": [
    "import numpy as np\n",
    "import matplotlib.pyplot as plt\n",
    "import matplotlib\n",
    "\n",
    "\n",
    "a1 = dur_time[:,0]\n",
    "a2 = dur_time[:,1]\n",
    "a3 = dur_time[:,2]\n",
    "a4 = dur_time[:,3]\n",
    "a5 = dur_time[:,4]\n",
    "a6 = dur_time[:,5]\n",
    "\n",
    "# Data\n",
    "dur_time = np.array(dur_time)\n",
    "\n",
    "\n",
    "# Plot settings\n",
    "plt.style.use('seaborn-whitegrid')\n",
    "plt.rcParams['axes.linewidth'] = 0.5\n",
    "cmap = matplotlib.cm.get_cmap('magma')\n",
    "\n",
    "colors = [cmap(0.1), cmap(0.3), cmap(0.5), cmap(0.7), cmap(0.9), cmap(1.0)]\n",
    "\n",
    "# Figure\n",
    "fig, ax = plt.subplots(figsize=(15, 6), facecolor='white')\n",
    "\n",
    "# Set position of bar on X axis\n",
    "barWidth = 0.2\n",
    "br = 1.5 * np.arange(len(a1))\n",
    "\n",
    "# Make the plot\n",
    "for i, (data, label, color) in enumerate(zip([a1, a2, a3, a4, a5, a6],\n",
    "                                            ['Statistical (36)', 'Temporal (18)', 'Spectral (336)', 'All (390)', 'AFS (1500)', 'Physical (62)'],\n",
    "                                            colors)):\n",
    "    plt.bar(br + i * barWidth, data, color=color, width=barWidth, label=label, edgecolor='k')\n",
    "    plt.plot(br + i * barWidth, data, marker='o', color=color, mec='k')\n",
    "\n",
    "# Adding Xticks\n",
    "xlabels = ['30s', '1min', '2min', '3min', '4min']\n",
    "plt.xlabel('Duration of Input Waveform', fontsize=15)\n",
    "plt.ylabel('Computation Time (s)', fontsize=15)\n",
    "plt.yticks(np.arange(0, 100, 20), fontsize=12)\n",
    "plt.yscale('log')\n",
    "plt.xticks(br + 2 * barWidth, xlabels, fontsize=12)\n",
    "plt.ylim(0, 300)\n",
    "\n",
    "# Legend\n",
    "plt.legend(loc='upper right', ncol=3, facecolor='white', framealpha=1, edgecolor='black', fontsize=12, title='Features', title_fontsize=12)\n",
    "\n",
    "# Save or show the plot\n",
    "# plt.savefig('Manuscript_Figures/Features_Performance_Comparison_averaged.eps')\n",
    "plt.show()\n"
   ]
  },
  {
   "cell_type": "code",
   "execution_count": null,
   "id": "2d84b3f0",
   "metadata": {},
   "outputs": [],
   "source": []
  }
 ],
 "metadata": {
  "kernelspec": {
   "display_name": "roses_2021",
   "language": "python",
   "name": "roses_2021"
  },
  "language_info": {
   "codemirror_mode": {
    "name": "ipython",
    "version": 3
   },
   "file_extension": ".py",
   "mimetype": "text/x-python",
   "name": "python",
   "nbconvert_exporter": "python",
   "pygments_lexer": "ipython3",
   "version": "3.9.5"
  }
 },
 "nbformat": 4,
 "nbformat_minor": 5
}
