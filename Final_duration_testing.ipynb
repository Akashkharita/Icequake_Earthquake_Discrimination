{
 "cells": [
  {
   "cell_type": "markdown",
   "id": "68e5c6d8",
   "metadata": {},
   "source": [
    "### This notebook shows the performance with input waveforms of different durations. [15s, 30s, 45s, 1min, 2min] with all types of features as an input."
   ]
  },
  {
   "cell_type": "code",
   "execution_count": 3,
   "id": "a9f99042",
   "metadata": {},
   "outputs": [],
   "source": [
    "## importing necessary dependencies \n",
    "## Note - Some dependencies may be redundant and not really required in this notebook. \n",
    "import obspy \n",
    "from obspy.geodetics.base import gps2dist_azimuth\n",
    "from obspy.taup import TauPyModel\n",
    "\n",
    "\n",
    "import matplotlib.pyplot as plt\n",
    "import numpy as np\n",
    "from glob import glob\n",
    "from tqdm import tqdm\n",
    "import os\n",
    "import time\n",
    "import numpy as np \n",
    "import pandas as pd \n",
    "import matplotlib.pyplot as plt\n",
    "from matplotlib.pyplot import figure\n",
    "import seaborn as sns\n",
    "from sklearn import preprocessing\n",
    "from sklearn.preprocessing import LabelEncoder\n",
    "from sklearn.preprocessing import StandardScaler\n",
    "from sklearn.model_selection import train_test_split\n",
    "from sklearn.metrics import classification_report,confusion_matrix\n",
    "from sklearn.ensemble import RandomForestClassifier\n",
    "\n",
    "from sklearn.model_selection import train_test_split\n",
    "from sklearn.feature_selection import SelectKBest\n",
    "from sklearn.feature_selection import f_classif\n",
    "\n",
    "from sklearn.model_selection import cross_val_score\n",
    "from sklearn.model_selection import RepeatedStratifiedKFold\n",
    "from sklearn.feature_selection import SelectKBest\n",
    "from sklearn.feature_selection import f_classif\n",
    "from sklearn.linear_model import LogisticRegression\n",
    "from sklearn.pipeline import Pipeline\n",
    "\n",
    "from sklearn.metrics import accuracy_score\n",
    "#from tsfresh import extract_features\n",
    "#from tsfresh.feature_extraction import EfficientFCParameters, MinimalFCParameters\n",
    "import time\n",
    "\n",
    "\n",
    "from sklearn.linear_model import LogisticRegression\n",
    "from sklearn.neighbors import KNeighborsClassifier\n",
    "from sklearn.tree import DecisionTreeClassifier\n",
    "from sklearn.ensemble import RandomForestClassifier\n",
    "from sklearn.svm import SVC\n",
    "from time import time\n",
    "\n",
    "model = TauPyModel(model=\"iasp91\")"
   ]
  },
  {
   "cell_type": "code",
   "execution_count": 20,
   "id": "514fa8bc",
   "metadata": {},
   "outputs": [],
   "source": [
    "## importing station and event metadata\n",
    "\n",
    "\n",
    "\n",
    "iq_lats = pd.read_csv('icequakes_catalog.csv')['latitude']\n",
    "iq_lons = pd.read_csv('icequakes_catalog.csv')['longitude']\n",
    "\n",
    "eq_lats = pd.read_csv('earthquakes_catalog.csv')['latitude']\n",
    "eq_lons = pd.read_csv('earthquakes_catalog.csv')['longitude']\n",
    "\n",
    "stns = pd.read_csv('gmap-stations.txt', sep='|', skiprows=[2,6])\n",
    "\n",
    "\n",
    "\n",
    "\n",
    "stations = stns.values[:,1].astype('str')\n",
    "stn_lats = stns.values[:,2].astype('float')\n",
    "stn_lons = stns.values[:,3].astype('float')\n",
    "gl_lat, gl_lon = 61.219722, -146.895278  ## coordinates of Columbia glacier. "
   ]
  },
  {
   "cell_type": "code",
   "execution_count": 21,
   "id": "b059e55e",
   "metadata": {},
   "outputs": [],
   "source": [
    "no_of_icequakes = []\n",
    "no_of_earthquakes = []\n",
    "for i in range(15):\n",
    "    no_of_icequakes.append(len(glob('Data/icequake_waveforms/*'+stations[i]+'*')))\n",
    "    no_of_earthquakes.append(len(glob('Data/earthquake_waveforms/*'+stations[i]+'*')))\n",
    "    \n",
    "    \n",
    "total_events = np.array(no_of_icequakes)+np.array(no_of_earthquakes)\n",
    "order = np.argsort(total_events) ## To order the station-wise results according to total number of events recorded"
   ]
  },
  {
   "cell_type": "code",
   "execution_count": null,
   "id": "6c20e646",
   "metadata": {},
   "outputs": [],
   "source": []
  },
  {
   "cell_type": "code",
   "execution_count": 18,
   "id": "ab83db7e",
   "metadata": {},
   "outputs": [],
   "source": [
    "def forest_test(X, Y, n_estimators= 100):\n",
    "    \"\"\"\"\n",
    "    This function applies random forest and computes the accuracy\n",
    "    \n",
    "    :param X = features matrix\n",
    "    :param Y = labels matrix\n",
    "    :param n_estimators = no. of trees in random forests.\n",
    "    \n",
    "    \"\"\"\n",
    "    \n",
    "    \n",
    "    \n",
    "    X_Train, X_Test, Y_Train, Y_Test = train_test_split(X, Y, \n",
    "                                                        test_size = 0.33, \n",
    "                                                        random_state = 101)\n",
    "    #X_train_fs, X_test_fs, fs = select_features(X_Train, Y_Train, X_Test)\n",
    "    \n",
    "    trainedforest = RandomForestClassifier(n_estimators=n_estimators).fit(X_Train,Y_Train)\n",
    "    predictionforest = trainedforest.predict(X_Test)\n",
    "    #print(confusion_matrix(Y_Test,predictionforest))\n",
    "    #print(classification_report(Y_Test,predictionforest))\n",
    "    acc = accuracy_score(Y_Test, predictionforest)\n",
    "    \n",
    "    return acc"
   ]
  },
  {
   "cell_type": "code",
   "execution_count": 13,
   "id": "06bf8959",
   "metadata": {},
   "outputs": [],
   "source": [
    "feature_labels = pd.read_csv('tsfel_features/all/feature_labels.txt', header = None).values"
   ]
  },
  {
   "cell_type": "code",
   "execution_count": 17,
   "id": "afd4be08",
   "metadata": {},
   "outputs": [
    {
     "data": {
      "text/plain": [
       "['tsfel_features/all/30s',\n",
       " 'tsfel_features/all/15s',\n",
       " 'tsfel_features/all/45s',\n",
       " 'tsfel_features/all/1min',\n",
       " 'tsfel_features/all/2min',\n",
       " 'tsfel_features/all/1minls',\n",
       " 'tsfel_features/all/feature_labels.txt']"
      ]
     },
     "execution_count": 17,
     "metadata": {},
     "output_type": "execute_result"
    }
   ],
   "source": [
    "## seeing what files we have in our directory. \n",
    "glob('tsfel_features/all/*')"
   ]
  },
  {
   "cell_type": "code",
   "execution_count": 22,
   "id": "2d3069dd",
   "metadata": {},
   "outputs": [
    {
     "name": "stderr",
     "output_type": "stream",
     "text": [
      "100%|██████████| 15/15 [02:02<00:00,  8.19s/it]\n"
     ]
    }
   ],
   "source": [
    "## computing accuracies with different durations. \n",
    "acc_15s = []\n",
    "acc_45s = []\n",
    "acc_30s = []\n",
    "acc_1min = []\n",
    "acc_2min = []\n",
    "\n",
    "\n",
    "for i in tqdm(range(len(stations))): \n",
    "    \n",
    "    X = np.loadtxt(\"tsfel_features/all/15s/\"+stations[i]+\".txt\")\n",
    "    y = np.loadtxt(\"tsfel_features/all/15s/\"+stations[i]+\"_labels.txt\")\n",
    "    acc_15s.append(forest_test(X,y))\n",
    "    \n",
    "\n",
    "    X = np.loadtxt(\"tsfel_features/all/30s/\"+stations[i]+\".txt\")\n",
    "    y = np.loadtxt(\"tsfel_features/all/30s/\"+stations[i]+\"_labels.txt\")\n",
    "    acc_30s.append(forest_test(X,y))\n",
    "    \n",
    "    \n",
    "    X = np.loadtxt(\"tsfel_features/all/45s/\"+stations[i]+\".txt\")\n",
    "    y = np.loadtxt(\"tsfel_features/all/45s/\"+stations[i]+\"_labels.txt\")\n",
    "    acc_45s.append(forest_test(X,y))\n",
    "    \n",
    "    \n",
    "    X = np.loadtxt(\"tsfel_features/all/1min/\"+stations[i]+\".txt\")\n",
    "    y = np.loadtxt(\"tsfel_features/all/1min/\"+stations[i]+\"_labels.txt\")\n",
    "    acc_1min.append(forest_test(X,y))\n",
    "    \n",
    "    \n",
    "    X = np.loadtxt(\"tsfel_features/all/2min/\"+stations[i]+\".txt\")\n",
    "    y = np.loadtxt(\"tsfel_features/all/2min/\"+stations[i]+\"_labels.txt\")\n",
    "    acc_2min.append(forest_test(X,y))\n",
    "  "
   ]
  },
  {
   "cell_type": "code",
   "execution_count": 30,
   "id": "902d4166",
   "metadata": {},
   "outputs": [
    {
     "name": "stderr",
     "output_type": "stream",
     "text": [
      "*c* argument looks like a single numeric RGB or RGBA sequence, which should be avoided as value-mapping will have precedence in case its length matches with *x* & *y*.  Please use the *color* keyword-argument or provide a 2D array with a single row if you intend to specify the same RGB or RGBA value for all points.\n",
      "*c* argument looks like a single numeric RGB or RGBA sequence, which should be avoided as value-mapping will have precedence in case its length matches with *x* & *y*.  Please use the *color* keyword-argument or provide a 2D array with a single row if you intend to specify the same RGB or RGBA value for all points.\n",
      "*c* argument looks like a single numeric RGB or RGBA sequence, which should be avoided as value-mapping will have precedence in case its length matches with *x* & *y*.  Please use the *color* keyword-argument or provide a 2D array with a single row if you intend to specify the same RGB or RGBA value for all points.\n",
      "*c* argument looks like a single numeric RGB or RGBA sequence, which should be avoided as value-mapping will have precedence in case its length matches with *x* & *y*.  Please use the *color* keyword-argument or provide a 2D array with a single row if you intend to specify the same RGB or RGBA value for all points.\n",
      "*c* argument looks like a single numeric RGB or RGBA sequence, which should be avoided as value-mapping will have precedence in case its length matches with *x* & *y*.  Please use the *color* keyword-argument or provide a 2D array with a single row if you intend to specify the same RGB or RGBA value for all points.\n",
      "*c* argument looks like a single numeric RGB or RGBA sequence, which should be avoided as value-mapping will have precedence in case its length matches with *x* & *y*.  Please use the *color* keyword-argument or provide a 2D array with a single row if you intend to specify the same RGB or RGBA value for all points.\n",
      "*c* argument looks like a single numeric RGB or RGBA sequence, which should be avoided as value-mapping will have precedence in case its length matches with *x* & *y*.  Please use the *color* keyword-argument or provide a 2D array with a single row if you intend to specify the same RGB or RGBA value for all points.\n",
      "*c* argument looks like a single numeric RGB or RGBA sequence, which should be avoided as value-mapping will have precedence in case its length matches with *x* & *y*.  Please use the *color* keyword-argument or provide a 2D array with a single row if you intend to specify the same RGB or RGBA value for all points.\n",
      "*c* argument looks like a single numeric RGB or RGBA sequence, which should be avoided as value-mapping will have precedence in case its length matches with *x* & *y*.  Please use the *color* keyword-argument or provide a 2D array with a single row if you intend to specify the same RGB or RGBA value for all points.\n",
      "*c* argument looks like a single numeric RGB or RGBA sequence, which should be avoided as value-mapping will have precedence in case its length matches with *x* & *y*.  Please use the *color* keyword-argument or provide a 2D array with a single row if you intend to specify the same RGB or RGBA value for all points.\n",
      "*c* argument looks like a single numeric RGB or RGBA sequence, which should be avoided as value-mapping will have precedence in case its length matches with *x* & *y*.  Please use the *color* keyword-argument or provide a 2D array with a single row if you intend to specify the same RGB or RGBA value for all points.\n",
      "*c* argument looks like a single numeric RGB or RGBA sequence, which should be avoided as value-mapping will have precedence in case its length matches with *x* & *y*.  Please use the *color* keyword-argument or provide a 2D array with a single row if you intend to specify the same RGB or RGBA value for all points.\n",
      "*c* argument looks like a single numeric RGB or RGBA sequence, which should be avoided as value-mapping will have precedence in case its length matches with *x* & *y*.  Please use the *color* keyword-argument or provide a 2D array with a single row if you intend to specify the same RGB or RGBA value for all points.\n",
      "*c* argument looks like a single numeric RGB or RGBA sequence, which should be avoided as value-mapping will have precedence in case its length matches with *x* & *y*.  Please use the *color* keyword-argument or provide a 2D array with a single row if you intend to specify the same RGB or RGBA value for all points.\n",
      "*c* argument looks like a single numeric RGB or RGBA sequence, which should be avoided as value-mapping will have precedence in case its length matches with *x* & *y*.  Please use the *color* keyword-argument or provide a 2D array with a single row if you intend to specify the same RGB or RGBA value for all points.\n"
     ]
    },
    {
     "data": {
      "text/plain": [
       "<matplotlib.legend.Legend at 0x7f44b8b448b0>"
      ]
     },
     "execution_count": 30,
     "metadata": {},
     "output_type": "execute_result"
    },
    {
     "data": {
      "image/png": "[encoded data removed]",
      "text/plain": [
       "<Figure size 1080x432 with 1 Axes>"
      ]
     },
     "metadata": {},
     "output_type": "display_data"
    }
   ],
   "source": [
    "import matplotlib as mpl\n",
    "cmap = mpl.cm.get_cmap('magma')\n",
    "\n",
    "import matplotlib as mpl\n",
    "mpl.rcParams['axes.linewidth'] = 2\n",
    "mpl.rcParams['axes.spines.right'] = False\n",
    "mpl.rcParams['axes.spines.left'] = True\n",
    "mpl.rcParams['axes.spines.top'] = False\n",
    "\n",
    "\n",
    "\n",
    "c1 = cmap(0.1)\n",
    "c2 = cmap(0.3)\n",
    "c3 = cmap(0.5)\n",
    "c4 = cmap(0.7)\n",
    "c5 = cmap(0.9)\n",
    "#c6 = cmap(1.0)\n",
    "\n",
    "\n",
    "\n",
    "# set width of bar\n",
    "barWidth = 0.2\n",
    "fig = plt.subplots(figsize =(15, 6), facecolor='white')\n",
    " \n",
    "# set height of bar\n",
    "\n",
    "a1 = np.array(acc_15s)*100\n",
    "a2 = np.array(acc_30s)*100\n",
    "a3 = np.array(acc_45s)*100\n",
    "a4 = np.array(acc_1min)*100\n",
    "a5 = np.array(acc_2min)*100\n",
    "\n",
    "\n",
    "\n",
    "\n",
    "# Set position of bar on X axis\n",
    "br1 = 1.5*np.arange(len(a1))\n",
    "br2 = [x + barWidth for x in br1]\n",
    "br3 = [x + barWidth for x in br2]\n",
    "br4 = [x + barWidth for x in br3]\n",
    "br5 = [x + barWidth for x in br4]\n",
    "br6 = [x + barWidth for x in br5]\n",
    "\n",
    "# Make the plot\n",
    "plt.bar(br1, a1[order], color =c1, width = barWidth,\n",
    "        label ='15 Seconds',edgecolor='k')\n",
    "plt.bar(br2, a2[order], color =c2, width = barWidth,\n",
    "         label ='30 Seconds',edgecolor='k')\n",
    "plt.bar(br3, a3[order], color =c3, width = barWidth,\n",
    "     label ='45 Seconds',edgecolor='k')\n",
    "plt.bar(br4, a4[order], color =c4, width = barWidth,\n",
    "         label ='1 Minutes',edgecolor='k')\n",
    "plt.bar(br5, a5[order], color =c5, width = barWidth,\n",
    "         label ='2 Minutes',edgecolor='k')\n",
    "#plt.bar(br6, a6[order], color =c6, width = barWidth,\n",
    "#         label ='4 Minutes',edgecolor='k')\n",
    "\n",
    "v = np.vstack((a1[order],a2[order], a3[order], a4[order], a5[order]))\n",
    "X = [br1, br2, br3, br4, br5]\n",
    "c= [c1,c2,c3,c4,c5]\n",
    "for i in range(15):\n",
    "    plt.scatter(X[int(np.argmax(v[:,i]))][i], max(v[:,i])+0.5, c=c[int(np.argmax(v[:,i]))])\n",
    "\n",
    "\n",
    "\n",
    " \n",
    "# Adding Xticks\n",
    "plt.xlabel('Stations', fontweight ='bold', fontsize = 15)\n",
    "plt.ylabel('Accuracy (%)', fontweight ='bold', fontsize = 15)\n",
    "plt.xticks([1.5*r + barWidth for r in range(len(a1))],stations[order], fontweight='black')\n",
    "plt.yticks(np.arange(65,100,5), [str(i) for i in np.arange(65,100,5)], fontweight='black' )\n",
    "plt.ylim(60,100)\n",
    "plt.xlim(-1,23)\n",
    "plt.legend(loc='lower right',ncol=3, facecolor='white', framealpha=1, edgecolor='black', fontsize=12, title ='Duration', title_fontsize=12)\n",
    "#plt.savefig('Manuscript_Figures/Duration_Performance_Comparison.eps')"
   ]
  },
  {
   "cell_type": "code",
   "execution_count": null,
   "id": "5d6a318b",
   "metadata": {},
   "outputs": [],
   "source": []
  }
 ],
 "metadata": {
  "kernelspec": {
   "display_name": "roses_2021",
   "language": "python",
   "name": "roses_2021"
  },
  "language_info": {
   "codemirror_mode": {
    "name": "ipython",
    "version": 3
   },
   "file_extension": ".py",
   "mimetype": "text/x-python",
   "name": "python",
   "nbconvert_exporter": "python",
   "pygments_lexer": "ipython3",
   "version": "3.9.5"
  }
 },
 "nbformat": 4,
 "nbformat_minor": 5
}
